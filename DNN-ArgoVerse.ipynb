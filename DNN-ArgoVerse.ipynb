{
 "cells": [
  {
   "cell_type": "code",
   "execution_count": 69,
   "metadata": {},
   "outputs": [],
   "source": [
    "import torch\n",
    "from torch.utils.data import Dataset, DataLoader\n",
    "import os, os.path \n",
    "import numpy \n",
    "import pickle\n",
    "from glob import glob\n",
    "import numpy as np\n",
    "import csv\n",
    "from tqdm import tqdm\n",
    "\n",
    "\"\"\"Change to the data folder\"\"\"\n",
    "new_path = \"./new_train/new_train/\"\n",
    "\n",
    "# number of sequences in each dataset\n",
    "# train:205942  val:3200 test: 36272 \n",
    "# sequences sampled at 10HZ rate\n",
    "\n",
    "class ArgoverseDataset(Dataset):\n",
    "    \"\"\"Dataset class for Argoverse\"\"\"\n",
    "    def __init__(self, data_path: str, transform=None):\n",
    "        super(ArgoverseDataset, self).__init__()\n",
    "        self.data_path = data_path\n",
    "        self.transform = transform\n",
    "\n",
    "        self.pkl_list = glob(os.path.join(self.data_path, '*'))\n",
    "        self.pkl_list.sort()\n",
    "        \n",
    "    def __len__(self):\n",
    "        return len(self.pkl_list)\n",
    "\n",
    "    def __getitem__(self, idx):\n",
    "\n",
    "        pkl_path = self.pkl_list[idx]\n",
    "        with open(pkl_path, 'rb') as f:\n",
    "            data = pickle.load(f)\n",
    "            \n",
    "        if self.transform:\n",
    "            data = self.transform(data)\n",
    "\n",
    "        return data\n",
    "\n",
    "def my_collate(batch):\n",
    "    \"\"\" collate lists of samples into batches, create [ batch_sz x agent_sz x seq_len x feature] \"\"\"\n",
    "    city = [scene['city'] for scene in batch]\n",
    "    scene_idx = [scene['scene_idx'] for scene in batch]\n",
    "    agent_id = [scene['agent_id'] for scene in batch]\n",
    "    car_mask = [scene['car_mask'] for scene in batch]\n",
    "    track_id = [scene['track_id'] for scene in batch]\n",
    "    pin = [scene['p_in'] for scene in batch]\n",
    "    vin = [scene['v_in'] for scene in batch]\n",
    "    pout = [scene['p_out'] for scene in batch]\n",
    "    vout = [scene['v_out'] for scene in batch]\n",
    "    lane = [scene['lane'] for scene in batch]\n",
    "    lane_norm = [scene['lane_norm'] for scene in batch]\n",
    "    \n",
    "    \n",
    "    return [city, scene_idx, agent_id, car_mask, track_id, pin, vin, pout, vout, lane, lane_norm]\n",
    "\n",
    "\n",
    "def my_collate_for_csv(batch):\n",
    "    \"\"\" collate lists of samples into batches, create [ batch_sz x agent_sz x seq_len x feature] \"\"\"\n",
    "    city = [scene['city'] for scene in batch]\n",
    "    scene_idx = [scene['scene_idx'] for scene in batch]\n",
    "    agent_id = [scene['agent_id'] for scene in batch]\n",
    "    car_mask = [scene['car_mask'] for scene in batch]\n",
    "    track_id = [scene['track_id'] for scene in batch]\n",
    "    pin = [scene['p_in'] for scene in batch]\n",
    "    vin = [scene['v_in'] for scene in batch]\n",
    "    lane = [scene['lane'] for scene in batch]\n",
    "    lane_norm = [scene['lane_norm'] for scene in batch]\n",
    "    \n",
    "    \n",
    "    return [city, scene_idx, agent_id, car_mask, track_id, pin, vin, lane, lane_norm]\n",
    "\n",
    "def conv_pos_to_disp(x, last_known=None, use_known = False):\n",
    "    arr = np.zeros(x.shape)\n",
    "    for i in range(arr.shape[0]):\n",
    "        if not use_known:\n",
    "            for j in range(1, arr.shape[2]):\n",
    "                arr[i, :, j, :] = x[i, :, j, :] - x[i, :, j - 1, :]\n",
    "        else:\n",
    "            for j in range(0, arr.shape[2]):\n",
    "                arr[i, :, j, :] = x[i, :, j, :] - x[i, :, j - 1, :]\n",
    "    return arr"
   ]
  },
  {
   "cell_type": "code",
   "execution_count": 70,
   "metadata": {},
   "outputs": [],
   "source": [
    "import torch.nn as nn\n",
    "import torch.nn.functional as F\n",
    "import torch.optim as optim\n",
    "\n",
    "class RNN(nn.Module):\n",
    "    def __init__(self, input_size=120, num_layers=2, hidden_size=256):\n",
    "        super().__init__()\n",
    "        self.hidden_size = hidden_size\n",
    "        self.num_layers = num_layers\n",
    "        \n",
    "        self.fc1 = nn.Linear(2280, 3500)\n",
    "        self.fc2 = nn.Linear(3500, 4500)\n",
    "        self.fc3 = nn.Linear(4500, 5500)\n",
    "        self.fc4 = nn.Linear(5500, 4500)\n",
    "        self.fc5 = nn.Linear(4500, 4096)\n",
    "        self.fc6 = nn.Linear(4096, 3600)\n",
    "        \n",
    "        self.do = nn.Dropout(p = 0.01)\n",
    "        self.sm = nn.LogSoftmax()\n",
    "        \n",
    "    def forward(self, x, future=0):\n",
    "        x = x.float()\n",
    "        x = self.fc1(x)\n",
    "        x = F.relu(self.fc2(x))\n",
    "        x = self.do(x)\n",
    "        x = F.relu(self.fc3(x))\n",
    "        x = self.do(x)\n",
    "        x = F.relu(self.fc4(x))\n",
    "        x = self.fc5(x)\n",
    "        x = self.fc6(x)\n",
    "        return x"
   ]
  },
  {
   "cell_type": "code",
   "execution_count": 78,
   "metadata": {},
   "outputs": [],
   "source": [
    "RMSE = []"
   ]
  },
  {
   "cell_type": "code",
   "execution_count": 79,
   "metadata": {},
   "outputs": [],
   "source": [
    "\n",
    "\n",
    "#### from tqdm import tqdm_notebook as tqdm\n",
    "def train(model, device, train_loader, optimizer, epoch, log_interval=10000):\n",
    "    global RMSE\n",
    "#     model = RNN().to(device)\n",
    "#     model.load_state_dict(torch.load(\"MODEL\"))\n",
    "    model.train()\n",
    "    iterator = tqdm(train_loader, total=int(len(train_loader)))\n",
    "    \n",
    "    total = 0\n",
    "    count = 0\n",
    "    for batch_idx, batch in enumerate(iterator):\n",
    "        \n",
    "#         if count >= 100:\n",
    "#             break\n",
    "        \n",
    "        city, scene_idx, agent_id, car_mask, track_id, pin, vin, pout, vout, lane, lane_norm = batch\n",
    "        pin = np.array(pin)\n",
    "        pout = np.array(pout)\n",
    "        vin = np.array(vin)\n",
    "        vout = np.array(vout)\n",
    "        car_mask = np.array(car_mask)\n",
    "            \n",
    "        pin = conv_pos_to_disp(pin)\n",
    "        last_known = pin[:, :, 18, :]\n",
    "        pout = conv_pos_to_disp(pout, last_known, True)\n",
    "        \n",
    "        pin = pin.reshape((len(agent_id), 2280))\n",
    "        pout = pout.reshape((len(agent_id), 3600))\n",
    "        \n",
    "        data = torch.from_numpy(pin)\n",
    "        target = torch.from_numpy(pout)\n",
    "        \n",
    "        data, target = data.to(device), target.to(device)\n",
    "        optimizer.zero_grad()\n",
    "        output = model(data, 30)\n",
    "\n",
    "        target = target.float()\n",
    "        \n",
    "        loss = nn.MSELoss()(output, target)\n",
    "        \n",
    "        eps = 1e-6\n",
    "        rmse = torch.sqrt(loss + eps)\n",
    "        RMSE.append(rmse.item())\n",
    "        \n",
    "        loss.backward()\n",
    "        optimizer.step()\n",
    "    \n",
    "        total += loss.item()\n",
    "        count += 1\n",
    "        iterator.set_postfix_str(\"loss={}, avg.={}\".format(loss.item(), total/count))"
   ]
  },
  {
   "cell_type": "code",
   "execution_count": 80,
   "metadata": {},
   "outputs": [],
   "source": [
    "def test(model, device, test_loader):\n",
    "#     model = RNN().to(device)\n",
    "#     model.load_state_dict(torch.load(\"MODEL\"))\n",
    "    model.eval()\n",
    "    test_loss = 0\n",
    "    total_dist = 0\n",
    "    num_tested = 0\n",
    "    with torch.no_grad():\n",
    "        \n",
    "        iterator = tqdm(test_loader, total=int(len(test_loader)))\n",
    "        for batch_idx, batch in enumerate(iterator):\n",
    "            city, scene_idx, agent_id, car_mask, track_id, pin, vin, pout, vout, lane, lane_norm = batch\n",
    "            pin = np.array(pin)\n",
    "            pout = np.array(pout)\n",
    "            vin = np.array(vin)\n",
    "            vout = np.array(vout)\n",
    "            car_mask = np.array(car_mask)\n",
    "           \n",
    "            pin = conv_pos_to_disp(pin)\n",
    "            last_known = pin[:, :, 18, :]\n",
    "            pout = conv_pos_to_disp(pout, last_known, True)\n",
    "            \n",
    "            pin = pin.reshape((len(agent_id), 2280))\n",
    "            pout = pout.reshape((len(agent_id), 3600))\n",
    "\n",
    "            data = torch.from_numpy(pin)\n",
    "            target = torch.from_numpy(pout)\n",
    "            \n",
    "            data, target = data.to(device), target.to(device)\n",
    "            output = model(data, 30)\n",
    "            \n",
    "            target = target.float()\n",
    "            num_tested += 1\n",
    "            test_loss += nn.MSELoss()(output, target).item() # sum up batch loss\n",
    "            \n",
    "    test_loss /= num_tested\n",
    "    print(\"Test loss: {}\".format(test_loss))"
   ]
  },
  {
   "cell_type": "code",
   "execution_count": null,
   "metadata": {
    "scrolled": false
   },
   "outputs": [
    {
     "name": "stdout",
     "output_type": "stream",
     "text": [
      "106433296\n"
     ]
    },
    {
     "name": "stderr",
     "output_type": "stream",
     "text": [
      "\r",
      "  0%|          | 0/2060 [00:00<?, ?it/s]"
     ]
    },
    {
     "name": "stdout",
     "output_type": "stream",
     "text": [
      "EPOCH: 1 -----------------------------------\n"
     ]
    },
    {
     "name": "stderr",
     "output_type": "stream",
     "text": [
      "100%|██████████| 2060/2060 [07:36<00:00,  4.51it/s, loss=0.13860641419887543, avg.=0.23489127448099908]\n",
      "100%|██████████| 2060/2060 [07:35<00:00,  4.52it/s]\n"
     ]
    },
    {
     "name": "stdout",
     "output_type": "stream",
     "text": [
      "Test loss: 0.1375513925461225\n"
     ]
    },
    {
     "name": "stderr",
     "output_type": "stream",
     "text": [
      "\r",
      "  0%|          | 0/2060 [00:00<?, ?it/s]"
     ]
    },
    {
     "name": "stdout",
     "output_type": "stream",
     "text": [
      "EPOCH: 2 -----------------------------------\n"
     ]
    },
    {
     "name": "stderr",
     "output_type": "stream",
     "text": [
      "100%|██████████| 2060/2060 [07:42<00:00,  4.46it/s, loss=0.14797255396842957, avg.=0.12643495762304774]\n",
      "100%|██████████| 2060/2060 [07:43<00:00,  4.45it/s]\n"
     ]
    },
    {
     "name": "stdout",
     "output_type": "stream",
     "text": [
      "Test loss: 0.1525659819287293\n"
     ]
    },
    {
     "name": "stderr",
     "output_type": "stream",
     "text": [
      "\r",
      "  0%|          | 0/2060 [00:00<?, ?it/s]"
     ]
    },
    {
     "name": "stdout",
     "output_type": "stream",
     "text": [
      "EPOCH: 3 -----------------------------------\n"
     ]
    },
    {
     "name": "stderr",
     "output_type": "stream",
     "text": [
      "100%|██████████| 2060/2060 [07:51<00:00,  4.37it/s, loss=0.9147112965583801, avg.=0.8606187950241045] \n",
      " 97%|█████████▋| 2003/2060 [07:50<00:13,  4.11it/s]"
     ]
    }
   ],
   "source": [
    "learning_rate = 0.001\n",
    "momentum = 0.5\n",
    "device = \"cuda\"\n",
    "model = RNN().to(device) #using cpu here\n",
    "optimizer = optim.Adam(model.parameters(), lr=learning_rate)\n",
    "batch_sz = 100\n",
    "num_epoch = 10\n",
    "\n",
    "print(sum(p.numel() for p in model.parameters()))\n",
    "\n",
    "\n",
    "val_dataset  = ArgoverseDataset(data_path=new_path)\n",
    "dataset_len = len(val_dataset)\n",
    "indices = np.arange(0, len(val_dataset))\n",
    "np.random.shuffle(indices)\n",
    "\n",
    "train_loader = DataLoader(val_dataset, batch_size=batch_sz, shuffle=True, collate_fn=my_collate, num_workers=1)\n",
    "test_loader = DataLoader(val_dataset, batch_size=batch_sz, shuffle=True, collate_fn=my_collate, num_workers=1)\n",
    "\n",
    "# do_both(model, device, train_loader, test_loader, optimizer, epoch)\n",
    "\n",
    "PATH = \"DNN-Linear-v00.pth\"\n",
    "\n",
    "# validation_err = 10000\n",
    "# num_valids_wrong = 0\n",
    "\n",
    "for epoch in range(1, num_epoch + 1):\n",
    "    print(\"EPOCH: {} -----------------------------------\".format(epoch))\n",
    "    train(model, device, train_loader, optimizer, epoch)\n",
    "    test(model, device, test_loader)\n",
    "    torch.save(model.state_dict(), PATH)"
   ]
  },
  {
   "cell_type": "code",
   "execution_count": 67,
   "metadata": {},
   "outputs": [],
   "source": [
    "def conv_disp_to_pos(x, last_known):\n",
    "#     print(\"cdtp: {}\".format(x.shape))\n",
    "    x[0, :] += last_known\n",
    "    for i in range(1, 30):\n",
    "        x[i, :] += x[i - 1, :]\n",
    "    return x\n",
    "\n",
    "def create_csv_for_vals(model, device, loader):#     model = RNN().to(device)\n",
    "    with open('csv_submission.csv', 'w') as csv_sub_wrap:\n",
    "        csv_sub = csv.writer(csv_sub_wrap)\n",
    "        \n",
    "        first_row = [\"ID\",  \"v1\",  \"v2\",  \"v3\",  \"v4\",  \"v5\",  \"v6\",  \"v7\",  \"v8\",  \"v9\",  \"v10\",  \"v11\",  \"v12\",  \"v13\",  \"v14\",  \"v15\",  \"v16\",  \"v17\",  \"v18\",  \"v19\",  \"v20\",  \"v21\",  \"v22\",  \"v23\",  \"v24\",  \"v25\",  \"v26\",  \"v27\",  \"v28\",  \"v29\",  \"v30\",  \"v31\",  \"v32\",  \"v33\",  \"v34\",  \"v35\",  \"v36\",  \"v37\",  \"v38\",  \"v39\",  \"v40\",  \"v41\",  \"v42\",  \"v43\",  \"v44\",  \"v45\",  \"v46\",  \"v47\",  \"v48\",  \"v49\",  \"v50\",  \"v51\",  \"v52\",  \"v53\",  \"v54\",  \"v55\",  \"v56\",  \"v57\",  \"v58\",  \"v59\",  \"v60\"]\n",
    "        csv_sub.writerow(first_row)\n",
    "        \n",
    "        model.eval()\n",
    "        with torch.no_grad():\n",
    "            iterator = tqdm(loader, total=int(len(loader)))\n",
    "            for batch_idx, batch in enumerate(iterator):\n",
    "                city, scene_idx, agent_id, car_mask, track_id, pin, vin, lane, lane_norm = batch\n",
    "                pin = np.array(pin)\n",
    "\n",
    "                pin2 = pin\n",
    "                pin = conv_pos_to_disp(pin)\n",
    "\n",
    "                pin = pin.reshape((len(agent_id), 2280))\n",
    "\n",
    "                data = torch.from_numpy(pin)\n",
    "\n",
    "                data = data.to(device)\n",
    "                output = model(data, 30)\n",
    "\n",
    "                output = output.reshape((len(agent_id), 60, 30, 2)).cpu().numpy()\n",
    "\n",
    "                for i in range(len(agent_id)):\n",
    "                    agent_index = np.where(track_id[i] == agent_id[i])[0][0]\n",
    "                    last_known = pin2[i, agent_index, 18, :]\n",
    "                    pout = conv_disp_to_pos(output[i, agent_index, :, :], last_known)\n",
    "                    pout = pout.reshape((60))\n",
    "                    out = []\n",
    "                    for j in range(61):\n",
    "                        out.append(1)\n",
    "                    out[0] = scene_idx[i]\n",
    "                    out[1:] = pout\n",
    "                    csv_sub.writerow(out)"
   ]
  },
  {
   "cell_type": "code",
   "execution_count": 68,
   "metadata": {},
   "outputs": [
    {
     "name": "stdout",
     "output_type": "stream",
     "text": [
      "106433296\n"
     ]
    },
    {
     "name": "stderr",
     "output_type": "stream",
     "text": [
      "100%|██████████| 32/32 [00:05<00:00,  5.53it/s]\n"
     ]
    }
   ],
   "source": [
    "learning_rate = 0.001\n",
    "momentum = 0.5\n",
    "device = \"cuda\"\n",
    "model = RNN().to(device) #using cpu here\n",
    "optimizer = optim.Adam(model.parameters(), lr=learning_rate)\n",
    "batch_sz = 100\n",
    "num_epoch = 10\n",
    "\n",
    "print(sum(p.numel() for p in model.parameters()))\n",
    "\n",
    "new_path = \"./new_val_in/new_val_in/\"\n",
    "\n",
    "val_dataset  = ArgoverseDataset(data_path=new_path)\n",
    "dataset_len = len(val_dataset)\n",
    "indices = np.arange(0, len(val_dataset))\n",
    "np.random.shuffle(indices)\n",
    "\n",
    "loader = DataLoader(val_dataset, batch_size=batch_sz, collate_fn=my_collate_for_csv, num_workers=1)\n",
    "\n",
    "# do_both(model, device, train_loader, test_loader, optimizer, epoch)\n",
    "\n",
    "PATH = \"DNN-Linear-v00.pth\"\n",
    "model.load_state_dict(torch.load(PATH))\n",
    "\n",
    "create_csv_for_vals(model, device, loader)"
   ]
  },
  {
   "cell_type": "code",
   "execution_count": 82,
   "metadata": {},
   "outputs": [
    {
     "name": "stdout",
     "output_type": "stream",
     "text": [
      "8240\n"
     ]
    }
   ],
   "source": [
    "print(len(RMSE))"
   ]
  },
  {
   "cell_type": "code",
   "execution_count": 90,
   "metadata": {},
   "outputs": [
    {
     "data": {
      "image/png": "[encoded data removed]",
      "text/plain": [
       "<Figure size 432x288 with 1 Axes>"
      ]
     },
     "metadata": {
      "needs_background": "light"
     },
     "output_type": "display_data"
    }
   ],
   "source": [
    "import matplotlib.pyplot as plt\n",
    "\n",
    "RMSE_out = np.array(RMSE)\n",
    "ones = np.ones((len(RMSE)))\n",
    "\n",
    "RMSE_out = np.minimum(RMSE_out, ones)\n",
    "\n",
    "plt.plot(RMSE_out)\n",
    "plt.savefig('DNN-RMSE.png')"
   ]
  },
  {
   "cell_type": "code",
   "execution_count": null,
   "metadata": {},
   "outputs": [],
   "source": []
  }
 ],
 "metadata": {
  "kernelspec": {
   "display_name": "Python 3",
   "language": "python",
   "name": "python3"
  },
  "language_info": {
   "codemirror_mode": {
    "name": "ipython",
    "version": 3
   },
   "file_extension": ".py",
   "mimetype": "text/x-python",
   "name": "python",
   "nbconvert_exporter": "python",
   "pygments_lexer": "ipython3",
   "version": "3.7.6"
  }
 },
 "nbformat": 4,
 "nbformat_minor": 4
}
