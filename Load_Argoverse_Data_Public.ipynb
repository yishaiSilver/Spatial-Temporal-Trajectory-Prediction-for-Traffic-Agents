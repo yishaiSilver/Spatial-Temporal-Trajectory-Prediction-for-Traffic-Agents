{
 "cells": [
  {
   "cell_type": "code",
   "execution_count": 5,
   "metadata": {},
   "outputs": [],
   "source": [
    "import torch\n",
    "from torch.utils.data import Dataset, DataLoader\n",
    "import os, os.path \n",
    "import numpy \n",
    "import pickle\n",
    "from glob import glob\n",
    "import numpy as np\n",
    "import csv\n",
    "from tqdm import tqdm\n",
    "\n",
    "\"\"\"Change to the data folder\"\"\"\n",
    "new_path = \"./new_train/new_train/\"\n",
    "\n",
    "# number of sequences in each dataset\n",
    "# train:205942  val:3200 test: 36272 \n",
    "# sequences sampled at 10HZ rate"
   ]
  },
  {
   "cell_type": "markdown",
   "metadata": {},
   "source": [
    "### Create a dataset class "
   ]
  },
  {
   "cell_type": "code",
   "execution_count": 6,
   "metadata": {},
   "outputs": [],
   "source": [
    "class ArgoverseDataset(Dataset):\n",
    "    \"\"\"Dataset class for Argoverse\"\"\"\n",
    "    def __init__(self, data_path: str, transform=None):\n",
    "        super(ArgoverseDataset, self).__init__()\n",
    "        self.data_path = data_path\n",
    "        self.transform = transform\n",
    "\n",
    "        self.pkl_list = glob(os.path.join(self.data_path, '*'))\n",
    "        self.pkl_list.sort()\n",
    "        \n",
    "    def __len__(self):\n",
    "        return len(self.pkl_list)\n",
    "\n",
    "    def __getitem__(self, idx):\n",
    "\n",
    "        pkl_path = self.pkl_list[idx]\n",
    "        with open(pkl_path, 'rb') as f:\n",
    "            data = pickle.load(f)\n",
    "            \n",
    "        if self.transform:\n",
    "            data = self.transform(data)\n",
    "\n",
    "        return data\n",
    "\n",
    "\n",
    "# intialize a dataset\n",
    "val_dataset  = ArgoverseDataset(data_path=new_path)"
   ]
  },
  {
   "cell_type": "markdown",
   "metadata": {},
   "source": [
    "### Create a loader to enable batch processing"
   ]
  },
  {
   "cell_type": "code",
   "execution_count": 7,
   "metadata": {},
   "outputs": [],
   "source": [
    "batch_sz = 100\n",
    "\n",
    "def my_collate(batch):\n",
    "    \"\"\" collate lists of samples into batches, create [ batch_sz x agent_sz x seq_len x feature] \"\"\"\n",
    "    city = [scene['city'] for scene in batch]\n",
    "    scene_idx = [scene['scene_idx'] for scene in batch]\n",
    "    agent_id = [scene['agent_id'] for scene in batch]\n",
    "    car_mask = [scene['car_mask'] for scene in batch]\n",
    "    track_id = [scene['track_id'] for scene in batch]\n",
    "    pin = [scene['p_in'] for scene in batch]\n",
    "    vin = [scene['v_in'] for scene in batch]\n",
    "    pout = [scene['p_out'] for scene in batch]\n",
    "    vout = [scene['v_out'] for scene in batch]\n",
    "    lane = [scene['lane'] for scene in batch]\n",
    "    lane_norm = [scene['lane_norm'] for scene in batch]\n",
    "    \n",
    "    \n",
    "    return [city, scene_idx, agent_id, car_mask, track_id, pin, vin, pout, vout, lane, lane_norm]\n",
    "\n",
    "val_loader = DataLoader(val_dataset,batch_size=batch_sz, shuffle = False, collate_fn=my_collate, num_workers=0)"
   ]
  },
  {
   "cell_type": "markdown",
   "metadata": {},
   "source": [
    "### Visualize the batch of sequences"
   ]
  },
  {
   "cell_type": "code",
   "execution_count": 8,
   "metadata": {},
   "outputs": [],
   "source": [
    "import matplotlib.pyplot as plt\n",
    "import random\n",
    "\n",
    "agent_id = 0\n",
    "\n",
    "def show_sample_batch(sample_batch, agent_id):\n",
    "    \"\"\"visualize the trajectory for a batch of samples with a randon agent\"\"\"\n",
    "    inp, out = sample_batch\n",
    "    batch_sz = inp.size(0)\n",
    "    agent_sz = inp.size(1)\n",
    "    \n",
    "    fig, axs = plt.subplots(1,batch_sz, figsize=(15, 3), facecolor='w', edgecolor='k')\n",
    "    fig.subplots_adjust(hspace = .5, wspace=.001)\n",
    "    axs = axs.ravel()   \n",
    "    for i in range(batch_sz):\n",
    "        axs[i].xaxis.set_ticks([])\n",
    "        axs[i].yaxis.set_ticks([])\n",
    "        \n",
    "        # first two feature dimensions are (x,y) positions\n",
    "        axs[i].scatter(inp[i, agent_id,:,0], inp[i, agent_id,:,1])\n",
    "        axs[i].scatter(out[i, agent_id,:,0], out[i, agent_id,:,1])"
   ]
  },
  {
   "cell_type": "code",
   "execution_count": 4,
   "metadata": {
    "scrolled": true
   },
   "outputs": [
    {
     "name": "stderr",
     "output_type": "stream",
     "text": [
      "20000it [21:07, 15.77it/s]\n"
     ]
    }
   ],
   "source": [
    "# # def show_sample_batch()\n",
    "# x_file = open('x_coords.txt', 'a') \n",
    "# y_file = open('y_coords.txt', 'a')\n",
    "    \n",
    "with open('x_vals_in', 'w') as csv_x_in:\n",
    "    with open('y_vals_in', 'w') as csv_y_in:\n",
    "        with open('x_vals_out', 'w') as csv_x_out:\n",
    "            with open('y_vals_out', 'w') as csv_y_out:\n",
    "                with open('v_mag_all', 'w') as v_mag_all:\n",
    "                    with open('v_mag_age', 'w') as v_mag_age:\n",
    "\n",
    "                        # using csv.writer method from CSV package\n",
    "                        write_x_in = csv.writer(csv_x_in)\n",
    "                        write_y_in = csv.writer(csv_y_in)\n",
    "                        write_x_out = csv.writer(csv_x_out)\n",
    "                        write_y_out = csv.writer(csv_y_out)\n",
    "                        write_v_all = csv.writer(v_mag_all)\n",
    "                        write_v_age = csv.writer(v_mag_age)\n",
    "\n",
    "                        for i_batch, sample_batch in tqdm(enumerate(val_loader)):\n",
    "                            \n",
    "                            if i_batch >= 20000:\n",
    "                                break\n",
    "                                \n",
    "                            city, scene_idx, agent_id, car_mask, track_id, pin, vin, pout, vout, lane, lane_norm = sample_batch\n",
    "                            pin = np.array(pin)\n",
    "                            pout = np.array(pout)\n",
    "                            vin = np.array(vin)\n",
    "                            vout = np.array(vout)\n",
    "                            car_mask = np.array(car_mask)\n",
    "                            \n",
    "                            for i in range(len(agent_id)):\n",
    "                                agent_index = np.where(track_id[i] == agent_id[i])[0][0]\n",
    "                                mask = car_mask[i].reshape([-1]).astype(int)\n",
    "        \n",
    "                                pin_x = pin[i, mask, :, 0].flatten()\n",
    "                                pin_y = pin[i, mask, :, 1].flatten()\n",
    "\n",
    "                                pout_x = pout[i, mask, :, 0].flatten()\n",
    "                                pout_y = pout[i, mask, :, 1].flatten()\n",
    "                                \n",
    "                                vin_x = vin[i, agent_index, :, 0]\n",
    "                                vin_y = vin[i, agent_index, :, 1]\n",
    "                                vin_mag = (vin_x**2 + vin_y**2) ** (1/2)\n",
    "                                \n",
    "                                vout_x = vout[i, agent_index, :, 0]\n",
    "                                vout_y = vout[i, agent_index, :, 1]\n",
    "                                vout_mag = (vout_x**2 + vout_y**2) ** (1/2)\n",
    "                                v_agent_mag = np.append(vin_mag, vout_mag)\n",
    "                                \n",
    "                                \n",
    "                                vin_all_x = vin[i, mask, :, 0]\n",
    "                                vin_all_y = vin[i, mask, :, 1]\n",
    "                                vin_all_mag = (vin_all_x**2 + vin_all_y**2) ** (1/2)\n",
    "                                vout_all_x = vout[i, mask, :, 0]\n",
    "                                vout_all_y = vout[i, mask, :, 1]\n",
    "                                vout_all_mag = (vout_all_x**2 + vout_all_y**2) ** (1/2)\n",
    "                                v_all_mag = np.append(vin_all_mag, vout_all_mag)\n",
    "                                \n",
    "                                write_x_in.writerow(pin_x)\n",
    "                                write_y_in.writerow(pin_y)\n",
    "\n",
    "                                write_x_out.writerow(pout_x)\n",
    "                                write_y_out.writerow(pout_y)\n",
    "                                \n",
    "                                write_v_age.writerow(v_agent_mag)\n",
    "                                write_v_all.writerow(v_all_mag)"
   ]
  },
  {
   "cell_type": "code",
   "execution_count": 6,
   "metadata": {},
   "outputs": [
    {
     "data": {
      "image/png": "[encoded data removed]",
      "text/plain": [
       "<Figure size 432x288 with 1 Axes>"
      ]
     },
     "metadata": {
      "needs_background": "light"
     },
     "output_type": "display_data"
    },
    {
     "data": {
      "image/png": "[encoded data removed]",
      "text/plain": [
       "<Figure size 432x288 with 1 Axes>"
      ]
     },
     "metadata": {
      "needs_background": "light"
     },
     "output_type": "display_data"
    },
    {
     "data": {
      "image/png": "[encoded data removed]",
      "text/plain": [
       "<Figure size 432x288 with 1 Axes>"
      ]
     },
     "metadata": {
      "needs_background": "light"
     },
     "output_type": "display_data"
    },
    {
     "data": {
      "image/png": "[encoded data removed]",
      "text/plain": [
       "<Figure size 432x288 with 1 Axes>"
      ]
     },
     "metadata": {
      "needs_background": "light"
     },
     "output_type": "display_data"
    }
   ],
   "source": [
    "import matplotlib.pyplot as plt\n",
    "import random\n",
    "\n",
    "def show_input_positions():\n",
    "    x_in = np.loadtxt('x_vals_in', unpack=True, delimiter=',').flatten()\n",
    "    y_in = np.loadtxt('y_vals_in', unpack=True, delimiter=',').flatten()\n",
    "\n",
    "    plt.hist2d(x_in, y_in)\n",
    "    plt.title(\"Distribution of Input Positions for all Agents\")\n",
    "    plt.show()\n",
    "    plt.close()\n",
    "\n",
    "show_input_positions()\n",
    "    \n",
    "def show_output_positions():\n",
    "    x_out = np.loadtxt('x_vals_out', unpack=True, delimiter=',').flatten()\n",
    "    y_out = np.loadtxt('y_vals_out', unpack=True, delimiter=',').flatten()\n",
    "\n",
    "    plt.hist2d(x_out,y_out)\n",
    "    plt.title(\"Distribution of Output Positions for all Agents\")\n",
    "    plt.show()\n",
    "    plt.close()\n",
    "    \n",
    "show_output_positions()\n",
    "\n",
    "def show_velocity_all():\n",
    "    v_mag_all = np.loadtxt('v_mag_all', unpack=True, delimiter=',')\n",
    "\n",
    "    plt.hist(v_mag_all)\n",
    "    plt.title(\"Distribution of Velocity Magnitude for all Agents\")\n",
    "    plt.show()\n",
    "    plt.close()\n",
    "\n",
    "show_velocity_all()\n",
    "    \n",
    "def show_velocity_agent():\n",
    "    v_mag_age = np.loadtxt('v_mag_age', unpack=True, delimiter=',')\n",
    "\n",
    "    plt.hist(v_mag_age)\n",
    "    plt.title(\"Distribution of Velocity Magnitude for Target Agent\")\n",
    "    plt.show()\n",
    "    plt.close()\n",
    "\n",
    "show_velocity_agent()"
   ]
  },
  {
   "cell_type": "code",
   "execution_count": 9,
   "metadata": {},
   "outputs": [],
   "source": [
    "pinxy = np.zeros((10, 10))\n",
    "poutxy = np.zeros((10, 10))\n",
    "\n",
    "vin_all = {}\n",
    "vin_age = {}"
   ]
  },
  {
   "cell_type": "code",
   "execution_count": 11,
   "metadata": {},
   "outputs": [
    {
     "name": "stderr",
     "output_type": "stream",
     "text": [
      "2060it [07:57,  4.32it/s]\n"
     ]
    }
   ],
   "source": [
    "for i_batch, sample_batch in tqdm(enumerate(val_loader)):\n",
    "\n",
    "    city, scene_idx, agent_id, car_mask, track_id, pin, vin, pout, vout, lane, lane_norm = sample_batch\n",
    "    pin = np.array(pin)\n",
    "    pout = np.array(pout)\n",
    "    vin = np.array(vin)\n",
    "    vout = np.array(vout)\n",
    "    car_mask = np.array(car_mask)\n",
    "\n",
    "    for i in range(10):\n",
    "        vin_all[i] = 0\n",
    "        vin_age[i] = 0\n",
    "        \n",
    "    \n",
    "    for i in range(len(agent_id)):\n",
    "        agent_index = np.where(track_id[i] == agent_id[i])[0][0]\n",
    "        mask = car_mask[i].reshape([-1]).astype(int)\n",
    "\n",
    "#         pin_x = (pin[i, mask, :, 0].flatten() / 500).astype(np.int32)\n",
    "#         pin_y = (pin[i, mask, :, 1].flatten() / 500).astype(np.int32)\n",
    "        \n",
    "#         pout_x = (pout[i, mask, :, 0].flatten() / 400).astype(np.int32)\n",
    "#         pout_y = (pout[i, mask, :, 1].flatten() / 400).astype(np.int32)\n",
    "        \n",
    "#         x = int(np.average(pin_x))\n",
    "#         y = int(np.average(pin_y))\n",
    "#         if x < 10 and y < 10:\n",
    "#             pinxy[x, y] += 1\n",
    "            \n",
    "#         x = int(np.average(pout_x))\n",
    "#         y = int(np.average(pout_y))\n",
    "#         if x < 10 and y < 10:\n",
    "#             poutxy[x, y] += 1\n",
    "            \n",
    "\n",
    "        vin_x = vin[i, agent_index, :, 0]\n",
    "        vin_y = vin[i, agent_index, :, 1]\n",
    "        vin_mag = (vin_x**2 + vin_y**2) ** (1/2)\n",
    "\n",
    "        vout_x = vout[i, agent_index, :, 0]\n",
    "        vout_y = vout[i, agent_index, :, 1]\n",
    "        vout_mag = (vout_x**2 + vout_y**2) ** (1/2)\n",
    "        v_agent_mag = np.append(vin_mag, vout_mag)\n",
    "        \n",
    "        v_agent_mag = (v_agent_mag.flatten() / 4).astype(np.int32)\n",
    "\n",
    "        vin_age[0] += np.count_nonzero(v_agent_mag == 0)\n",
    "        vin_age[1] += np.count_nonzero(v_agent_mag == 1)\n",
    "        vin_age[2] += np.count_nonzero(v_agent_mag == 2)\n",
    "        vin_age[3] += np.count_nonzero(v_agent_mag == 3)\n",
    "        vin_age[4] += np.count_nonzero(v_agent_mag == 4)\n",
    "        vin_age[5] += np.count_nonzero(v_agent_mag == 5)\n",
    "        vin_age[6] += np.count_nonzero(v_agent_mag == 6)\n",
    "        vin_age[7] += np.count_nonzero(v_agent_mag == 7)\n",
    "        vin_age[8] += np.count_nonzero(v_agent_mag == 8)\n",
    "        vin_age[9] += np.count_nonzero(v_agent_mag == 9)\n",
    "\n",
    "        vin_all_x = vin[i, mask, :, 0]\n",
    "        vin_all_y = vin[i, mask, :, 1]\n",
    "        vin_all_mag = (vin_all_x**2 + vin_all_y**2) ** (1/2)\n",
    "        vout_all_x = vout[i, mask, :, 0]\n",
    "        vout_all_y = vout[i, mask, :, 1]\n",
    "        vout_all_mag = (vout_all_x**2 + vout_all_y**2) ** (1/2)\n",
    "        v_all_mag = np.append(vin_all_mag, vout_all_mag)\n",
    "        \n",
    "        v_all_mag = (v_all_mag.flatten() / 4).astype(np.int32)\n",
    "\n",
    "        vin_all[0] += np.count_nonzero(v_all_mag == 0)\n",
    "        vin_all[1] += np.count_nonzero(v_all_mag == 1)\n",
    "        vin_all[2] += np.count_nonzero(v_all_mag == 2)\n",
    "        vin_all[3] += np.count_nonzero(v_all_mag == 3)\n",
    "        vin_all[4] += np.count_nonzero(v_all_mag == 4)\n",
    "        vin_all[5] += np.count_nonzero(v_all_mag == 5)\n",
    "        vin_all[6] += np.count_nonzero(v_all_mag == 6)\n",
    "        vin_all[7] += np.count_nonzero(v_all_mag == 7)\n",
    "        vin_all[8] += np.count_nonzero(v_all_mag == 8)\n",
    "        vin_all[9] += np.count_nonzero(v_all_mag == 9)"
   ]
  },
  {
   "cell_type": "code",
   "execution_count": 50,
   "metadata": {},
   "outputs": [
    {
     "ename": "TypeError",
     "evalue": "'<' not supported between instances of 'dict' and 'float'",
     "output_type": "error",
     "traceback": [
      "\u001b[0;31m---------------------------------------------------------------------------\u001b[0m",
      "\u001b[0;31mTypeError\u001b[0m                                 Traceback (most recent call last)",
      "\u001b[0;32m<ipython-input-50-e9d70bd71f66>\u001b[0m in \u001b[0;36m<module>\u001b[0;34m\u001b[0m\n\u001b[0;32m----> 1\u001b[0;31m \u001b[0mplt\u001b[0m\u001b[0;34m.\u001b[0m\u001b[0mhist\u001b[0m\u001b[0;34m(\u001b[0m\u001b[0mvin_all\u001b[0m\u001b[0;34m)\u001b[0m\u001b[0;34m\u001b[0m\u001b[0;34m\u001b[0m\u001b[0m\n\u001b[0m",
      "\u001b[0;32m/opt/conda/lib/python3.7/site-packages/matplotlib/pyplot.py\u001b[0m in \u001b[0;36mhist\u001b[0;34m(x, bins, range, density, weights, cumulative, bottom, histtype, align, orientation, rwidth, log, color, label, stacked, data, **kwargs)\u001b[0m\n\u001b[1;32m   2608\u001b[0m         \u001b[0malign\u001b[0m\u001b[0;34m=\u001b[0m\u001b[0malign\u001b[0m\u001b[0;34m,\u001b[0m \u001b[0morientation\u001b[0m\u001b[0;34m=\u001b[0m\u001b[0morientation\u001b[0m\u001b[0;34m,\u001b[0m \u001b[0mrwidth\u001b[0m\u001b[0;34m=\u001b[0m\u001b[0mrwidth\u001b[0m\u001b[0;34m,\u001b[0m \u001b[0mlog\u001b[0m\u001b[0;34m=\u001b[0m\u001b[0mlog\u001b[0m\u001b[0;34m,\u001b[0m\u001b[0;34m\u001b[0m\u001b[0;34m\u001b[0m\u001b[0m\n\u001b[1;32m   2609\u001b[0m         color=color, label=label, stacked=stacked, **({\"data\": data}\n\u001b[0;32m-> 2610\u001b[0;31m         if data is not None else {}), **kwargs)\n\u001b[0m\u001b[1;32m   2611\u001b[0m \u001b[0;34m\u001b[0m\u001b[0m\n\u001b[1;32m   2612\u001b[0m \u001b[0;34m\u001b[0m\u001b[0m\n",
      "\u001b[0;32m/opt/conda/lib/python3.7/site-packages/matplotlib/__init__.py\u001b[0m in \u001b[0;36minner\u001b[0;34m(ax, data, *args, **kwargs)\u001b[0m\n\u001b[1;32m   1563\u001b[0m     \u001b[0;32mdef\u001b[0m \u001b[0minner\u001b[0m\u001b[0;34m(\u001b[0m\u001b[0max\u001b[0m\u001b[0;34m,\u001b[0m \u001b[0;34m*\u001b[0m\u001b[0margs\u001b[0m\u001b[0;34m,\u001b[0m \u001b[0mdata\u001b[0m\u001b[0;34m=\u001b[0m\u001b[0;32mNone\u001b[0m\u001b[0;34m,\u001b[0m \u001b[0;34m**\u001b[0m\u001b[0mkwargs\u001b[0m\u001b[0;34m)\u001b[0m\u001b[0;34m:\u001b[0m\u001b[0;34m\u001b[0m\u001b[0;34m\u001b[0m\u001b[0m\n\u001b[1;32m   1564\u001b[0m         \u001b[0;32mif\u001b[0m \u001b[0mdata\u001b[0m \u001b[0;32mis\u001b[0m \u001b[0;32mNone\u001b[0m\u001b[0;34m:\u001b[0m\u001b[0;34m\u001b[0m\u001b[0;34m\u001b[0m\u001b[0m\n\u001b[0;32m-> 1565\u001b[0;31m             \u001b[0;32mreturn\u001b[0m \u001b[0mfunc\u001b[0m\u001b[0;34m(\u001b[0m\u001b[0max\u001b[0m\u001b[0;34m,\u001b[0m \u001b[0;34m*\u001b[0m\u001b[0mmap\u001b[0m\u001b[0;34m(\u001b[0m\u001b[0msanitize_sequence\u001b[0m\u001b[0;34m,\u001b[0m \u001b[0margs\u001b[0m\u001b[0;34m)\u001b[0m\u001b[0;34m,\u001b[0m \u001b[0;34m**\u001b[0m\u001b[0mkwargs\u001b[0m\u001b[0;34m)\u001b[0m\u001b[0;34m\u001b[0m\u001b[0;34m\u001b[0m\u001b[0m\n\u001b[0m\u001b[1;32m   1566\u001b[0m \u001b[0;34m\u001b[0m\u001b[0m\n\u001b[1;32m   1567\u001b[0m         \u001b[0mbound\u001b[0m \u001b[0;34m=\u001b[0m \u001b[0mnew_sig\u001b[0m\u001b[0;34m.\u001b[0m\u001b[0mbind\u001b[0m\u001b[0;34m(\u001b[0m\u001b[0max\u001b[0m\u001b[0;34m,\u001b[0m \u001b[0;34m*\u001b[0m\u001b[0margs\u001b[0m\u001b[0;34m,\u001b[0m \u001b[0;34m**\u001b[0m\u001b[0mkwargs\u001b[0m\u001b[0;34m)\u001b[0m\u001b[0;34m\u001b[0m\u001b[0;34m\u001b[0m\u001b[0m\n",
      "\u001b[0;32m/opt/conda/lib/python3.7/site-packages/matplotlib/axes/_axes.py\u001b[0m in \u001b[0;36mhist\u001b[0;34m(self, x, bins, range, density, weights, cumulative, bottom, histtype, align, orientation, rwidth, log, color, label, stacked, **kwargs)\u001b[0m\n\u001b[1;32m   6617\u001b[0m                     \u001b[0;31m# python's min/max ignore nan,\u001b[0m\u001b[0;34m\u001b[0m\u001b[0;34m\u001b[0m\u001b[0;34m\u001b[0m\u001b[0m\n\u001b[1;32m   6618\u001b[0m                     \u001b[0;31m# np.minnan returns nan for all nan input\u001b[0m\u001b[0;34m\u001b[0m\u001b[0;34m\u001b[0m\u001b[0;34m\u001b[0m\u001b[0m\n\u001b[0;32m-> 6619\u001b[0;31m                     \u001b[0mxmin\u001b[0m \u001b[0;34m=\u001b[0m \u001b[0mmin\u001b[0m\u001b[0;34m(\u001b[0m\u001b[0mxmin\u001b[0m\u001b[0;34m,\u001b[0m \u001b[0mnp\u001b[0m\u001b[0;34m.\u001b[0m\u001b[0mnanmin\u001b[0m\u001b[0;34m(\u001b[0m\u001b[0mxi\u001b[0m\u001b[0;34m)\u001b[0m\u001b[0;34m)\u001b[0m\u001b[0;34m\u001b[0m\u001b[0;34m\u001b[0m\u001b[0m\n\u001b[0m\u001b[1;32m   6620\u001b[0m                     \u001b[0mxmax\u001b[0m \u001b[0;34m=\u001b[0m \u001b[0mmax\u001b[0m\u001b[0;34m(\u001b[0m\u001b[0mxmax\u001b[0m\u001b[0;34m,\u001b[0m \u001b[0mnp\u001b[0m\u001b[0;34m.\u001b[0m\u001b[0mnanmax\u001b[0m\u001b[0;34m(\u001b[0m\u001b[0mxi\u001b[0m\u001b[0;34m)\u001b[0m\u001b[0;34m)\u001b[0m\u001b[0;34m\u001b[0m\u001b[0;34m\u001b[0m\u001b[0m\n\u001b[1;32m   6621\u001b[0m             \u001b[0;31m# make sure we have seen at least one non-nan and finite\u001b[0m\u001b[0;34m\u001b[0m\u001b[0;34m\u001b[0m\u001b[0;34m\u001b[0m\u001b[0m\n",
      "\u001b[0;31mTypeError\u001b[0m: '<' not supported between instances of 'dict' and 'float'"
     ]
    },
    {
     "data": {
      "image/png": "[encoded data removed]",
      "text/plain": [
       "<Figure size 432x288 with 1 Axes>"
      ]
     },
     "metadata": {
      "needs_background": "light"
     },
     "output_type": "display_data"
    }
   ],
   "source": []
  },
  {
   "cell_type": "code",
   "execution_count": 51,
   "metadata": {},
   "outputs": [
    {
     "name": "stdout",
     "output_type": "stream",
     "text": [
      "{0: 637, 1: 366, 2: 545, 3: 308, 4: 61, 5: 58, 6: 57, 7: 17, 8: 6, 9: 2}\n"
     ]
    }
   ],
   "source": [
    "print(vin_age)"
   ]
  },
  {
   "cell_type": "code",
   "execution_count": 52,
   "metadata": {},
   "outputs": [
    {
     "name": "stdout",
     "output_type": "stream",
     "text": [
      "{0: 40106, 1: 19992, 2: 43483, 3: 12002, 4: 3127, 5: 2701, 6: 1575, 7: 323, 8: 114, 9: 38}\n"
     ]
    }
   ],
   "source": [
    "print(vin_all)"
   ]
  },
  {
   "cell_type": "code",
   "execution_count": 49,
   "metadata": {},
   "outputs": [
    {
     "data": {
      "text/plain": [
       "(array([[10.,  0.,  0.,  0.,  0.,  0.,  0.,  0.,  0.,  0.],\n",
       "        [ 9.,  0.,  0.,  0.,  0.,  1.,  0.,  0.,  0.,  0.],\n",
       "        [ 9.,  0.,  0.,  0.,  0.,  0.,  0.,  0.,  0.,  1.],\n",
       "        [ 7.,  1.,  0.,  0.,  2.,  0.,  0.,  0.,  0.,  0.],\n",
       "        [ 7.,  0.,  1.,  0.,  1.,  0.,  1.,  0.,  0.,  0.],\n",
       "        [ 8.,  2.,  0.,  0.,  0.,  0.,  0.,  0.,  0.,  0.],\n",
       "        [ 8.,  0.,  2.,  0.,  0.,  0.,  0.,  0.,  0.,  0.],\n",
       "        [ 8.,  1.,  1.,  0.,  0.,  0.,  0.,  0.,  0.,  0.],\n",
       "        [10.,  0.,  0.,  0.,  0.,  0.,  0.,  0.,  0.,  0.],\n",
       "        [10.,  0.,  0.,  0.,  0.,  0.,  0.,  0.,  0.,  0.]]),\n",
       " array([    0. ,  3850.8,  7701.6, 11552.4, 15403.2, 19254. , 23104.8,\n",
       "        26955.6, 30806.4, 34657.2, 38508. ]),\n",
       " <a list of 10 Lists of Patches objects>)"
      ]
     },
     "execution_count": 49,
     "metadata": {},
     "output_type": "execute_result"
    },
    {
     "data": {
      "image/png": "[encoded data removed]",
      "text/plain": [
       "<Figure size 432x288 with 1 Axes>"
      ]
     },
     "metadata": {
      "needs_background": "light"
     },
     "output_type": "display_data"
    }
   ],
   "source": [
    "# pinx_list = []\n",
    "# piny_list = []\n",
    "# for x in range(pinxy.shape[0]):\n",
    "#     for y in range(pinxy.shape[1]):\n",
    "        \n",
    "plt.hist(pinxy)"
   ]
  },
  {
   "cell_type": "code",
   "execution_count": 18,
   "metadata": {},
   "outputs": [],
   "source": [
    "vin_age_list = []\n",
    "vin_all_list = []"
   ]
  },
  {
   "cell_type": "code",
   "execution_count": 19,
   "metadata": {},
   "outputs": [],
   "source": [
    "for key, value in vin_age.items():\n",
    "     while value > 0:\n",
    "            vin_age_list.append(key * 4)\n",
    "            value -= 1\n",
    "for key, value in vin_all.items():\n",
    "     while value > 0:\n",
    "            vin_all_list.append(key * 4)\n",
    "            value -= 1"
   ]
  },
  {
   "cell_type": "code",
   "execution_count": 22,
   "metadata": {},
   "outputs": [
    {
     "data": {
      "image/png": "[encoded data removed]",
      "text/plain": [
       "<Figure size 432x288 with 1 Axes>"
      ]
     },
     "metadata": {
      "needs_background": "light"
     },
     "output_type": "display_data"
    },
    {
     "data": {
      "image/png": "[encoded data removed]",
      "text/plain": [
       "<Figure size 432x288 with 1 Axes>"
      ]
     },
     "metadata": {
      "needs_background": "light"
     },
     "output_type": "display_data"
    }
   ],
   "source": [
    "plt.hist(vin_all_list)\n",
    "plt.title(\"Distribution of Velocity Magnitude for all Agents\")\n",
    "plt.show()\n",
    "plt.close()\n",
    "\n",
    "plt.hist(vin_age_list)\n",
    "plt.title(\"Distribution of Velocity Magnitude for Target Agent\")\n",
    "plt.show()\n",
    "plt.close()\n"
   ]
  },
  {
   "cell_type": "code",
   "execution_count": null,
   "metadata": {},
   "outputs": [],
   "source": [
    "vin_all_list = []"
   ]
  },
  {
   "cell_type": "code",
   "execution_count": null,
   "metadata": {},
   "outputs": [],
   "source": [
    "for key, value in vin_all.items():\n",
    "     while value > 0:\n",
    "            vin_all_list.append(key * 4)"
   ]
  }
 ],
 "metadata": {
  "kernelspec": {
   "display_name": "Python 3",
   "language": "python",
   "name": "python3"
  },
  "language_info": {
   "codemirror_mode": {
    "name": "ipython",
    "version": 3
   },
   "file_extension": ".py",
   "mimetype": "text/x-python",
   "name": "python",
   "nbconvert_exporter": "python",
   "pygments_lexer": "ipython3",
   "version": "3.7.6"
  }
 },
 "nbformat": 4,
 "nbformat_minor": 4
}
